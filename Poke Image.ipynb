{
 "cells": [
  {
   "cell_type": "code",
   "execution_count": 4,
   "metadata": {},
   "outputs": [],
   "source": [
    "import pandas as pd\n",
    "import numpy as np\n",
    "from PIL import Image\n",
    "import os\n",
    "import matplotlib.pyplot as plt"
   ]
  },
  {
   "cell_type": "code",
   "execution_count": 5,
   "metadata": {},
   "outputs": [],
   "source": [
    "from sklearn.model_selection import train_test_split"
   ]
  },
  {
   "cell_type": "code",
   "execution_count": 88,
   "metadata": {},
   "outputs": [],
   "source": [
    "from keras.utils.np_utils import to_categorical\n",
    "from keras.models import Sequential\n",
    "from keras.layers import Dense, Dropout, Flatten, Conv2D, MaxPool2D, AveragePooling2D\n",
    "from keras.optimizers import RMSprop\n",
    "\n"
   ]
  },
  {
   "cell_type": "code",
   "execution_count": 57,
   "metadata": {},
   "outputs": [],
   "source": [
    "poke = pd.read_csv('pokemon.csv')"
   ]
  },
  {
   "cell_type": "code",
   "execution_count": 58,
   "metadata": {},
   "outputs": [],
   "source": [
    "for i in range(len(poke['Name'])):\n",
    "    for img in os.listdir('./images/images'):\n",
    "        if img.split('.')[0] == poke.iloc[i]['Name']:\n",
    "            poke.at[i,'Path'] = './images/images/' + img\n",
    "    "
   ]
  },
  {
   "cell_type": "code",
   "execution_count": 59,
   "metadata": {},
   "outputs": [
    {
     "name": "stderr",
     "output_type": "stream",
     "text": [
      "/usr/lib/python3/dist-packages/PIL/Image.py:931: UserWarning: Palette images with Transparency expressed in bytes should be converted to RGBA images\n",
      "  warnings.warn(\n"
     ]
    }
   ],
   "source": [
    "arr=[]\n",
    "for i in range(len(poke['Path'])):\n",
    "    im = Image.open(poke.iloc[i]['Path'])\n",
    "    rgb_im = im.convert('RGB')\n",
    "    arr.append(np.asarray(rgb_im))"
   ]
  },
  {
   "cell_type": "code",
   "execution_count": 60,
   "metadata": {},
   "outputs": [],
   "source": [
    "poke['array'] = arr"
   ]
  },
  {
   "cell_type": "code",
   "execution_count": 61,
   "metadata": {},
   "outputs": [],
   "source": [
    "types = poke['Type1'].value_counts().to_dict()"
   ]
  },
  {
   "cell_type": "code",
   "execution_count": 62,
   "metadata": {},
   "outputs": [],
   "source": [
    "i=0\n",
    "for key in types.keys():\n",
    "    types[key] = i\n",
    "    i+=1"
   ]
  },
  {
   "cell_type": "code",
   "execution_count": 63,
   "metadata": {},
   "outputs": [
    {
     "data": {
      "text/plain": [
       "{'Water': 0,\n",
       " 'Normal': 1,\n",
       " 'Grass': 2,\n",
       " 'Bug': 3,\n",
       " 'Fire': 4,\n",
       " 'Psychic': 5,\n",
       " 'Rock': 6,\n",
       " 'Electric': 7,\n",
       " 'Poison': 8,\n",
       " 'Ground': 9,\n",
       " 'Fighting': 10,\n",
       " 'Dark': 11,\n",
       " 'Ghost': 12,\n",
       " 'Dragon': 13,\n",
       " 'Steel': 14,\n",
       " 'Ice': 15,\n",
       " 'Fairy': 16,\n",
       " 'Flying': 17}"
      ]
     },
     "execution_count": 63,
     "metadata": {},
     "output_type": "execute_result"
    }
   ],
   "source": [
    "types"
   ]
  },
  {
   "cell_type": "code",
   "execution_count": 64,
   "metadata": {},
   "outputs": [
    {
     "data": {
      "text/plain": [
       "'Water'"
      ]
     },
     "execution_count": 64,
     "metadata": {},
     "output_type": "execute_result"
    }
   ],
   "source": [
    "poke.iloc[6]['Type1']"
   ]
  },
  {
   "cell_type": "code",
   "execution_count": 65,
   "metadata": {},
   "outputs": [],
   "source": [
    "for i in range(len(poke['Type1'])):\n",
    "    poke.at[i,'Type1'] = types[poke.iloc[i]['Type1']]\n",
    "    "
   ]
  },
  {
   "cell_type": "code",
   "execution_count": 68,
   "metadata": {},
   "outputs": [],
   "source": [
    "data = {'Array':poke['array'],'Label':poke['Type1']}\n",
    "df = pd.DataFrame(data,columns=['Array','Label'])"
   ]
  },
  {
   "cell_type": "code",
   "execution_count": 172,
   "metadata": {},
   "outputs": [],
   "source": [
    "X_train = []\n",
    "Y_train = []\n",
    "for item in df['Array']:\n",
    "    X_train.append(item)\n",
    "for item in df['Label']:\n",
    "    Y_train.append(item)\n",
    "    \n",
    "X_train = np.asarray(X_train)\n",
    "Y_train = np.asarray(Y_train)"
   ]
  },
  {
   "cell_type": "code",
   "execution_count": 173,
   "metadata": {},
   "outputs": [],
   "source": [
    "Y_train = to_categorical(Y_train, num_classes = 18)"
   ]
  },
  {
   "cell_type": "code",
   "execution_count": 174,
   "metadata": {},
   "outputs": [],
   "source": [
    "X_train, X_val, Y_train, Y_val = train_test_split(X_train, Y_train, test_size = 0.1, random_state=42)\n"
   ]
  },
  {
   "cell_type": "code",
   "execution_count": 176,
   "metadata": {},
   "outputs": [
    {
     "data": {
      "text/plain": [
       "(728, 120, 120, 3)"
      ]
     },
     "execution_count": 176,
     "metadata": {},
     "output_type": "execute_result"
    }
   ],
   "source": [
    "X_train.shape"
   ]
  },
  {
   "cell_type": "code",
   "execution_count": 183,
   "metadata": {},
   "outputs": [],
   "source": [
    "model = Sequential()\n",
    "\n",
    "model.add(Conv2D(filters = 32, kernel_size = (5,5),padding = 'Same', \n",
    "                 activation ='relu', input_shape = [120,120,3]))\n",
    "model.add(Conv2D(filters = 32, kernel_size = (5,5),padding = 'Same', \n",
    "                 activation ='relu'))\n",
    "model.add(AveragePooling2D(pool_size=(2,2)))\n",
    "model.add(Dropout(0.25))\n",
    "\n",
    "\n",
    "model.add(Conv2D(filters = 64, kernel_size = (3,3),padding = 'Same', \n",
    "                 activation ='relu'))\n",
    "model.add(Conv2D(filters = 64, kernel_size = (3,3),padding = 'Same', \n",
    "                 activation ='relu'))\n",
    "model.add(AveragePooling2D(pool_size=(2,2), strides=(2,2)))\n",
    "model.add(Dropout(0.25))\n",
    "\n",
    "\n",
    "model.add(Flatten())\n",
    "model.add(Dense(256, activation = \"relu\"))\n",
    "model.add(Dropout(0.5))\n",
    "model.add(Dense(18,activation = \"softmax\"))"
   ]
  },
  {
   "cell_type": "code",
   "execution_count": 184,
   "metadata": {},
   "outputs": [],
   "source": [
    "optimizer = RMSprop(lr=0.001, rho=0.9, epsilon=1e-08, decay=0.0)\n"
   ]
  },
  {
   "cell_type": "code",
   "execution_count": 185,
   "metadata": {},
   "outputs": [],
   "source": [
    "model.compile(optimizer = optimizer , loss = \"categorical_crossentropy\", metrics=[\"accuracy\"])\n"
   ]
  },
  {
   "cell_type": "code",
   "execution_count": 186,
   "metadata": {},
   "outputs": [
    {
     "name": "stdout",
     "output_type": "stream",
     "text": [
      "Train on 728 samples, validate on 81 samples\n",
      "Epoch 1/30\n",
      "728/728 [==============================] - 50s 69ms/step - loss: 17.5825 - accuracy: 0.0920 - val_loss: 2.8572 - val_accuracy: 0.1358\n",
      "Epoch 2/30\n",
      "728/728 [==============================] - 49s 68ms/step - loss: 2.7412 - accuracy: 0.1511 - val_loss: 2.8111 - val_accuracy: 0.1481\n",
      "Epoch 3/30\n",
      "728/728 [==============================] - 49s 67ms/step - loss: 2.5262 - accuracy: 0.2225 - val_loss: 2.8666 - val_accuracy: 0.0988\n",
      "Epoch 4/30\n",
      "728/728 [==============================] - 49s 67ms/step - loss: 2.0892 - accuracy: 0.3338 - val_loss: 3.7435 - val_accuracy: 0.1358\n",
      "Epoch 5/30\n",
      "728/728 [==============================] - 49s 67ms/step - loss: 1.6903 - accuracy: 0.5027 - val_loss: 3.8052 - val_accuracy: 0.0988\n",
      "Epoch 6/30\n",
      "728/728 [==============================] - 49s 67ms/step - loss: 1.1496 - accuracy: 0.6058 - val_loss: 3.5448 - val_accuracy: 0.0617\n",
      "Epoch 7/30\n",
      "728/728 [==============================] - 49s 67ms/step - loss: 0.8554 - accuracy: 0.7486 - val_loss: 4.9789 - val_accuracy: 0.0617\n",
      "Epoch 8/30\n",
      "728/728 [==============================] - 49s 67ms/step - loss: 1.3615 - accuracy: 0.7637 - val_loss: 6.9492 - val_accuracy: 0.1111\n",
      "Epoch 9/30\n",
      "728/728 [==============================] - 49s 67ms/step - loss: 0.5844 - accuracy: 0.8297 - val_loss: 7.6513 - val_accuracy: 0.0988\n",
      "Epoch 10/30\n",
      "728/728 [==============================] - 49s 67ms/step - loss: 0.5885 - accuracy: 0.8489 - val_loss: 8.7993 - val_accuracy: 0.1235\n",
      "Epoch 11/30\n",
      "728/728 [==============================] - 52s 71ms/step - loss: 0.6728 - accuracy: 0.8585 - val_loss: 8.2100 - val_accuracy: 0.0741\n",
      "Epoch 12/30\n",
      "728/728 [==============================] - 52s 71ms/step - loss: 0.4419 - accuracy: 0.8695 - val_loss: 8.1824 - val_accuracy: 0.0617\n",
      "Epoch 13/30\n",
      "728/728 [==============================] - 59s 81ms/step - loss: 0.3393 - accuracy: 0.8997 - val_loss: 11.6753 - val_accuracy: 0.0864\n",
      "Epoch 14/30\n",
      "728/728 [==============================] - 54s 75ms/step - loss: 0.3211 - accuracy: 0.8984 - val_loss: 10.0853 - val_accuracy: 0.1235\n",
      "Epoch 15/30\n",
      "728/728 [==============================] - 56s 77ms/step - loss: 0.2849 - accuracy: 0.9121 - val_loss: 10.5316 - val_accuracy: 0.1111\n",
      "Epoch 16/30\n",
      "728/728 [==============================] - 58s 80ms/step - loss: 0.2646 - accuracy: 0.9272 - val_loss: 13.3838 - val_accuracy: 0.1235\n",
      "Epoch 17/30\n",
      "728/728 [==============================] - 57s 79ms/step - loss: 0.2257 - accuracy: 0.9286 - val_loss: 13.1696 - val_accuracy: 0.0988\n",
      "Epoch 18/30\n",
      "728/728 [==============================] - 58s 79ms/step - loss: 0.2113 - accuracy: 0.9327 - val_loss: 12.5499 - val_accuracy: 0.1111\n",
      "Epoch 19/30\n",
      "728/728 [==============================] - 59s 81ms/step - loss: 0.5340 - accuracy: 0.9382 - val_loss: 14.7107 - val_accuracy: 0.0741\n",
      "Epoch 20/30\n",
      "728/728 [==============================] - 63s 86ms/step - loss: 0.1002 - accuracy: 0.9725 - val_loss: 14.6491 - val_accuracy: 0.1111\n",
      "Epoch 21/30\n",
      "728/728 [==============================] - 55s 76ms/step - loss: 0.0913 - accuracy: 0.9698 - val_loss: 15.4556 - val_accuracy: 0.1111\n",
      "Epoch 22/30\n",
      "728/728 [==============================] - 53s 73ms/step - loss: 0.0743 - accuracy: 0.9821 - val_loss: 14.9668 - val_accuracy: 0.1235\n",
      "Epoch 23/30\n",
      "728/728 [==============================] - 59s 82ms/step - loss: 0.1731 - accuracy: 0.9712 - val_loss: 18.3640 - val_accuracy: 0.1111\n",
      "Epoch 24/30\n",
      "728/728 [==============================] - 51s 69ms/step - loss: 0.2006 - accuracy: 0.9629 - val_loss: 26.0927 - val_accuracy: 0.1235\n",
      "Epoch 25/30\n",
      "728/728 [==============================] - 57s 78ms/step - loss: 0.1479 - accuracy: 0.9712 - val_loss: 16.7892 - val_accuracy: 0.1358\n",
      "Epoch 26/30\n",
      "728/728 [==============================] - 55s 76ms/step - loss: 0.1089 - accuracy: 0.9698 - val_loss: 16.3317 - val_accuracy: 0.1358\n",
      "Epoch 27/30\n",
      "728/728 [==============================] - 55s 76ms/step - loss: 0.0906 - accuracy: 0.9698 - val_loss: 16.9711 - val_accuracy: 0.1235\n",
      "Epoch 28/30\n",
      "728/728 [==============================] - 58s 80ms/step - loss: 0.0738 - accuracy: 0.9794 - val_loss: 19.1199 - val_accuracy: 0.0988\n",
      "Epoch 29/30\n",
      "728/728 [==============================] - 59s 81ms/step - loss: 0.0803 - accuracy: 0.9794 - val_loss: 17.4191 - val_accuracy: 0.1605\n",
      "Epoch 30/30\n",
      "728/728 [==============================] - 51s 70ms/step - loss: 0.1285 - accuracy: 0.9698 - val_loss: 16.0384 - val_accuracy: 0.0741\n"
     ]
    }
   ],
   "source": [
    "history = model.fit(X_train,Y_train, epochs = 30, validation_data = (X_val, Y_val))"
   ]
  },
  {
   "cell_type": "code",
   "execution_count": 191,
   "metadata": {},
   "outputs": [],
   "source": [
    "model.save('poke_cnn')"
   ]
  },
  {
   "cell_type": "code",
   "execution_count": 103,
   "metadata": {},
   "outputs": [
    {
     "data": {
      "text/plain": [
       "<matplotlib.image.AxesImage at 0x7f3e0c689310>"
      ]
     },
     "execution_count": 103,
     "metadata": {},
     "output_type": "execute_result"
    },
    {
     "data": {
      "image/png": "[encoded data removed]",
      "text/plain": [
       "<Figure size 432x288 with 1 Axes>"
      ]
     },
     "metadata": {
      "needs_background": "light"
     },
     "output_type": "display_data"
    }
   ],
   "source": [
    "plt.imshow(df.iloc[800]['Array'][:,:,:])"
   ]
  },
  {
   "cell_type": "code",
   "execution_count": 227,
   "metadata": {},
   "outputs": [],
   "source": [
    "char = Image.open('bulb.jpg')\n",
    "char = char.resize((120,120))"
   ]
  },
  {
   "cell_type": "code",
   "execution_count": 228,
   "metadata": {},
   "outputs": [],
   "source": [
    "char = np.asarray(char)"
   ]
  },
  {
   "cell_type": "code",
   "execution_count": 229,
   "metadata": {},
   "outputs": [],
   "source": [
    "char = np.expand_dims(char,axis=0)"
   ]
  },
  {
   "cell_type": "code",
   "execution_count": 230,
   "metadata": {},
   "outputs": [
    {
     "data": {
      "text/plain": [
       "(1, 120, 120, 3)"
      ]
     },
     "execution_count": 230,
     "metadata": {},
     "output_type": "execute_result"
    }
   ],
   "source": [
    "char.shape"
   ]
  },
  {
   "cell_type": "code",
   "execution_count": 231,
   "metadata": {},
   "outputs": [
    {
     "data": {
      "text/plain": [
       "array([[7.1729727e-02, 1.8745476e-01, 4.9446240e-01, 5.4951239e-04,\n",
       "        9.9549644e-02, 6.1578490e-02, 4.8279393e-02, 8.4143650e-04,\n",
       "        8.4461865e-04, 1.4417196e-03, 1.5942470e-04, 5.8769445e-05,\n",
       "        6.0507157e-03, 2.6761176e-02, 3.1931406e-05, 6.2742336e-05,\n",
       "        1.4363139e-04, 6.6826646e-09]], dtype=float32)"
      ]
     },
     "execution_count": 231,
     "metadata": {},
     "output_type": "execute_result"
    }
   ],
   "source": [
    "model.predict(char)"
   ]
  },
  {
   "cell_type": "code",
   "execution_count": 221,
   "metadata": {},
   "outputs": [
    {
     "data": {
      "text/plain": [
       "{'Water': 0,\n",
       " 'Normal': 1,\n",
       " 'Grass': 2,\n",
       " 'Bug': 3,\n",
       " 'Fire': 4,\n",
       " 'Psychic': 5,\n",
       " 'Rock': 6,\n",
       " 'Electric': 7,\n",
       " 'Poison': 8,\n",
       " 'Ground': 9,\n",
       " 'Fighting': 10,\n",
       " 'Dark': 11,\n",
       " 'Ghost': 12,\n",
       " 'Dragon': 13,\n",
       " 'Steel': 14,\n",
       " 'Ice': 15,\n",
       " 'Fairy': 16,\n",
       " 'Flying': 17}"
      ]
     },
     "execution_count": 221,
     "metadata": {},
     "output_type": "execute_result"
    }
   ],
   "source": [
    "types"
   ]
  },
  {
   "cell_type": "code",
   "execution_count": null,
   "metadata": {},
   "outputs": [],
   "source": []
  }
 ],
 "metadata": {
  "kernelspec": {
   "display_name": "Python 3",
   "language": "python",
   "name": "python3"
  },
  "language_info": {
   "codemirror_mode": {
    "name": "ipython",
    "version": 3
   },
   "file_extension": ".py",
   "mimetype": "text/x-python",
   "name": "python",
   "nbconvert_exporter": "python",
   "pygments_lexer": "ipython3",
   "version": "3.8.2"
  }
 },
 "nbformat": 4,
 "nbformat_minor": 4
}
